{
 "cells": [
  {
   "cell_type": "code",
   "execution_count": 1,
   "metadata": {},
   "outputs": [
    {
     "name": "stdout",
     "output_type": "stream",
     "text": [
      "Setup Complete\n"
     ]
    }
   ],
   "source": [
    "import numpy as np\n",
    "import pandas as pd\n",
    "pd.plotting.register_matplotlib_converters()\n",
    "import matplotlib.pyplot as plt\n",
    "import seaborn as sns\n",
    "from sklearn.linear_model import LinearRegression\n",
    "from sklearn.impute import SimpleImputer\n",
    "from sklearn.metrics import mean_absolute_error, mean_squared_error, r2_score\n",
    "from sklearn.model_selection import cross_val_score, train_test_split\n",
    "print(\"Setup Complete\")"
   ]
  },
  {
   "cell_type": "code",
   "execution_count": 2,
   "metadata": {},
   "outputs": [
    {
     "name": "stdout",
     "output_type": "stream",
     "text": [
      "data loaded \n",
      "\n"
     ]
    }
   ],
   "source": [
    "#Read in the data\n",
    "all_data = pd.read_csv(r\"C:\\Users\\paraicoreilly\\Desktop\\project_code\\PM\\all_data_organised.csv\",index_col=\"date\",parse_dates=True,dayfirst=True)\n",
    "test_data = pd.read_csv(r'C:\\Users\\paraicoreilly\\Desktop\\project_code\\PM\\PM25_test.csv')\n",
    "print(\"data loaded \\n\")"
   ]
  },
  {
   "cell_type": "code",
   "execution_count": 3,
   "metadata": {},
   "outputs": [
    {
     "name": "stdout",
     "output_type": "stream",
     "text": [
      "            PM25  temp  r_hum  wdsp   msl\n",
      "date                                     \n",
      "2009-01-01  31.1   3.4   90.4   7.8  1029\n",
      "2009-01-02  15.2   3.7   77.4   8.5  1031\n",
      "2009-01-03  17.4   2.8   67.0   6.1  1030\n",
      "\n",
      "\n",
      "              PM25         temp        r_hum         wdsp          msl\n",
      "count  3302.000000  3652.000000  3652.000000  3652.000000  3652.000000\n",
      "mean     10.280389     9.643565    82.927410    10.698083  1013.238226\n",
      "std       8.899069     4.587299     7.209473     4.318353    11.861392\n",
      "min      -0.200000    -8.100000    54.000000     2.300000   960.000000\n",
      "25%       5.000000     6.300000    78.000000     7.500000  1006.000000\n",
      "50%       7.300000     9.800000    83.100000     9.900000  1014.000000\n",
      "75%      12.200000    13.300000    88.200000    13.300000  1021.000000\n",
      "max     107.700000    21.100000   100.000000    28.800000  1042.000000\n",
      "\n",
      "\n"
     ]
    }
   ],
   "source": [
    "#Check the first few rows and describte the data to check it is loaded in correctly\n",
    "print(all_data.head(3))\n",
    "print(\"\\n\")\n",
    "print(all_data.describe())\n",
    "print(\"\\n\")"
   ]
  },
  {
   "cell_type": "code",
   "execution_count": 4,
   "metadata": {},
   "outputs": [
    {
     "name": "stdout",
     "output_type": "stream",
     "text": [
      "              PM25         temp        r_hum         wdsp          msl\n",
      "count  3651.000000  3651.000000  3651.000000  3651.000000  3651.000000\n",
      "mean      9.240641     9.645275    82.925363    10.698877  1013.233909\n",
      "std       5.812234     4.586763     7.209400     4.318678    11.860147\n",
      "min      -0.200000    -8.100000    54.000000     2.300000   960.000000\n",
      "25%       4.900000     6.300000    78.000000     7.500000  1006.000000\n",
      "50%       7.300000     9.800000    83.100000     9.900000  1014.000000\n",
      "75%      12.155050    13.300000    88.150000    13.300000  1021.000000\n",
      "max      28.000000    21.100000   100.000000    28.800000  1042.000000\n"
     ]
    }
   ],
   "source": [
    "# Outlier detection\n",
    "up_p = all_data['PM25'].mean() + 2*all_data['PM25'].std()\n",
    "low_p = all_data['PM25'].mean() - 2*all_data['PM25'].std()\n",
    "# Replace outlier by interpolation for base consumption\n",
    "all_data.loc[all_data['PM25'] > up_p, 'PM25'] = np.nan\n",
    "all_data.loc[all_data['PM25'] < low_p, 'PM25'] = np.nan\n",
    "all_data['PM25'].interpolate(inplace=True)\n",
    "all_data.dropna(axis=0, inplace=True)\n",
    "\n",
    "print(all_data.describe())"
   ]
  },
  {
   "cell_type": "code",
   "execution_count": 5,
   "metadata": {},
   "outputs": [],
   "source": [
    "#Drop the rows that have missing values from the data frame - need to adjust this - try with mean values filling in - also need to set aside data for test set\n",
    "all_data.dropna(axis=0, inplace=True)\n",
    "test_data.dropna(axis=0, inplace=True)"
   ]
  },
  {
   "cell_type": "code",
   "execution_count": 6,
   "metadata": {},
   "outputs": [],
   "source": [
    "#Store PM_25 (the target variable) in y \n",
    "y = all_data.PM25\n",
    "y.describe()\n",
    "features = ['wdsp','r_hum','temp']\n",
    "\n",
    "#Store the data for the features in X\n",
    "X = all_data[features] \n",
    "train_X, val_X, train_y, val_y = train_test_split(X, y, random_state = 42, test_size=.02)"
   ]
  },
  {
   "cell_type": "code",
   "execution_count": 7,
   "metadata": {},
   "outputs": [
    {
     "data": {
      "text/html": [
       "<style>#sk-container-id-1 {color: black;background-color: white;}#sk-container-id-1 pre{padding: 0;}#sk-container-id-1 div.sk-toggleable {background-color: white;}#sk-container-id-1 label.sk-toggleable__label {cursor: pointer;display: block;width: 100%;margin-bottom: 0;padding: 0.3em;box-sizing: border-box;text-align: center;}#sk-container-id-1 label.sk-toggleable__label-arrow:before {content: \"▸\";float: left;margin-right: 0.25em;color: #696969;}#sk-container-id-1 label.sk-toggleable__label-arrow:hover:before {color: black;}#sk-container-id-1 div.sk-estimator:hover label.sk-toggleable__label-arrow:before {color: black;}#sk-container-id-1 div.sk-toggleable__content {max-height: 0;max-width: 0;overflow: hidden;text-align: left;background-color: #f0f8ff;}#sk-container-id-1 div.sk-toggleable__content pre {margin: 0.2em;color: black;border-radius: 0.25em;background-color: #f0f8ff;}#sk-container-id-1 input.sk-toggleable__control:checked~div.sk-toggleable__content {max-height: 200px;max-width: 100%;overflow: auto;}#sk-container-id-1 input.sk-toggleable__control:checked~label.sk-toggleable__label-arrow:before {content: \"▾\";}#sk-container-id-1 div.sk-estimator input.sk-toggleable__control:checked~label.sk-toggleable__label {background-color: #d4ebff;}#sk-container-id-1 div.sk-label input.sk-toggleable__control:checked~label.sk-toggleable__label {background-color: #d4ebff;}#sk-container-id-1 input.sk-hidden--visually {border: 0;clip: rect(1px 1px 1px 1px);clip: rect(1px, 1px, 1px, 1px);height: 1px;margin: -1px;overflow: hidden;padding: 0;position: absolute;width: 1px;}#sk-container-id-1 div.sk-estimator {font-family: monospace;background-color: #f0f8ff;border: 1px dotted black;border-radius: 0.25em;box-sizing: border-box;margin-bottom: 0.5em;}#sk-container-id-1 div.sk-estimator:hover {background-color: #d4ebff;}#sk-container-id-1 div.sk-parallel-item::after {content: \"\";width: 100%;border-bottom: 1px solid gray;flex-grow: 1;}#sk-container-id-1 div.sk-label:hover label.sk-toggleable__label {background-color: #d4ebff;}#sk-container-id-1 div.sk-serial::before {content: \"\";position: absolute;border-left: 1px solid gray;box-sizing: border-box;top: 0;bottom: 0;left: 50%;z-index: 0;}#sk-container-id-1 div.sk-serial {display: flex;flex-direction: column;align-items: center;background-color: white;padding-right: 0.2em;padding-left: 0.2em;position: relative;}#sk-container-id-1 div.sk-item {position: relative;z-index: 1;}#sk-container-id-1 div.sk-parallel {display: flex;align-items: stretch;justify-content: center;background-color: white;position: relative;}#sk-container-id-1 div.sk-item::before, #sk-container-id-1 div.sk-parallel-item::before {content: \"\";position: absolute;border-left: 1px solid gray;box-sizing: border-box;top: 0;bottom: 0;left: 50%;z-index: -1;}#sk-container-id-1 div.sk-parallel-item {display: flex;flex-direction: column;z-index: 1;position: relative;background-color: white;}#sk-container-id-1 div.sk-parallel-item:first-child::after {align-self: flex-end;width: 50%;}#sk-container-id-1 div.sk-parallel-item:last-child::after {align-self: flex-start;width: 50%;}#sk-container-id-1 div.sk-parallel-item:only-child::after {width: 0;}#sk-container-id-1 div.sk-dashed-wrapped {border: 1px dashed gray;margin: 0 0.4em 0.5em 0.4em;box-sizing: border-box;padding-bottom: 0.4em;background-color: white;}#sk-container-id-1 div.sk-label label {font-family: monospace;font-weight: bold;display: inline-block;line-height: 1.2em;}#sk-container-id-1 div.sk-label-container {text-align: center;}#sk-container-id-1 div.sk-container {/* jupyter's `normalize.less` sets `[hidden] { display: none; }` but bootstrap.min.css set `[hidden] { display: none !important; }` so we also need the `!important` here to be able to override the default hidden behavior on the sphinx rendered scikit-learn.org. See: https://github.com/scikit-learn/scikit-learn/issues/21755 */display: inline-block !important;position: relative;}#sk-container-id-1 div.sk-text-repr-fallback {display: none;}</style><div id=\"sk-container-id-1\" class=\"sk-top-container\"><div class=\"sk-text-repr-fallback\"><pre>LinearRegression()</pre><b>In a Jupyter environment, please rerun this cell to show the HTML representation or trust the notebook. <br />On GitHub, the HTML representation is unable to render, please try loading this page with nbviewer.org.</b></div><div class=\"sk-container\" hidden><div class=\"sk-item\"><div class=\"sk-estimator sk-toggleable\"><input class=\"sk-toggleable__control sk-hidden--visually\" id=\"sk-estimator-id-1\" type=\"checkbox\" checked><label for=\"sk-estimator-id-1\" class=\"sk-toggleable__label sk-toggleable__label-arrow\">LinearRegression</label><div class=\"sk-toggleable__content\"><pre>LinearRegression()</pre></div></div></div></div></div>"
      ],
      "text/plain": [
       "LinearRegression()"
      ]
     },
     "execution_count": 7,
     "metadata": {},
     "output_type": "execute_result"
    }
   ],
   "source": [
    "lin = LinearRegression()\n",
    "lin.fit(train_X,train_y)"
   ]
  },
  {
   "cell_type": "code",
   "execution_count": 8,
   "metadata": {},
   "outputs": [
    {
     "name": "stdout",
     "output_type": "stream",
     "text": [
      "CV accuracy: 0.256 +/- 0.044\n"
     ]
    }
   ],
   "source": [
    "# Model performance\n",
    "scores = cross_val_score(lin, train_X, train_y, cv=10)\n",
    "print('CV accuracy: %.3f +/- %.3f' % (np.mean(scores), np.std(scores)))"
   ]
  },
  {
   "cell_type": "code",
   "execution_count": 9,
   "metadata": {},
   "outputs": [],
   "source": [
    "val_pred = lin.predict(val_X)\n",
    "mae_scores = -cross_val_score(lin, X, y, cv=5, scoring='neg_mean_absolute_error')\n",
    "mse_scores = -cross_val_score(lin, X, y, cv=5, scoring='neg_mean_squared_error')\n",
    "r2_scores = cross_val_score(lin, X, y, cv=5, scoring='r2')\n",
    "std = 8.899069\n",
    "variability = std/mae_scores.mean()\n"
   ]
  },
  {
   "cell_type": "code",
   "execution_count": 10,
   "metadata": {},
   "outputs": [
    {
     "name": "stdout",
     "output_type": "stream",
     "text": [
      "Metrics for the validation set using cross-validation:\n",
      "\n",
      "Mean Absolute Error: 3.829155759025516\n",
      "Mean Squared Error: 25.750329178826394\n",
      "R^2 Score: 0.21890035065115043\n",
      "Variability: 2.3240289922979604\n"
     ]
    }
   ],
   "source": [
    "print('Metrics for the validation set using cross-validation:\\n')\n",
    "print('Mean Absolute Error:', mae_scores.mean())\n",
    "print('Mean Squared Error:', mse_scores.mean())\n",
    "print('R^2 Score:', r2_scores.mean())\n",
    "print('Variability:',variability)"
   ]
  },
  {
   "cell_type": "code",
   "execution_count": 11,
   "metadata": {},
   "outputs": [
    {
     "data": {
      "image/png": "[encoded data removed]",
      "text/plain": [
       "<Figure size 640x480 with 1 Axes>"
      ]
     },
     "metadata": {},
     "output_type": "display_data"
    }
   ],
   "source": [
    "val_predictions = lin.predict(val_X).flatten()\n",
    "\n",
    "a = plt.axes(aspect='equal')\n",
    "plt.scatter(val_y, val_predictions)\n",
    "plt.xlabel('True Values [PM25]')\n",
    "plt.ylabel('Predictions [PM25]')\n",
    "lims = [0, 50]\n",
    "plt.xlim(lims)\n",
    "plt.ylim(lims)\n",
    "_ = plt.plot(lims, lims)"
   ]
  },
  {
   "cell_type": "code",
   "execution_count": 12,
   "metadata": {},
   "outputs": [],
   "source": [
    "test_data = pd.read_csv(r'C:\\Users\\paraicoreilly\\Desktop\\project_code\\PM\\PM25_test.csv')\n",
    "test_data.dropna(axis=0, inplace=True)\n",
    "test_y = test_data.PM25\n",
    "test_x = test_data[features]"
   ]
  },
  {
   "cell_type": "code",
   "execution_count": 13,
   "metadata": {},
   "outputs": [],
   "source": [
    "test_pred = lin.predict(test_x)\n",
    "# calculate metrics\n",
    "test_mae = mean_absolute_error(test_y, test_pred)\n",
    "test_mse = mean_squared_error(test_y, test_pred)\n",
    "test_r2 = r2_score(test_y, test_pred)\n",
    "test_std = 7.366215\n",
    "test_variability = std/test_mae"
   ]
  },
  {
   "cell_type": "code",
   "execution_count": 14,
   "metadata": {},
   "outputs": [
    {
     "name": "stdout",
     "output_type": "stream",
     "text": [
      "Metrics for the validation set using cross-validation:\n",
      "\n",
      "Mean Absolute Error: 5.438679447774534\n",
      "Mean Squared Error: 56.95920131462241\n",
      "R^2 Score: -0.05260792114438506\n",
      "Variability: 1.6362554707359027\n"
     ]
    }
   ],
   "source": [
    "print('Metrics for the validation set using cross-validation:\\n')\n",
    "print('Mean Absolute Error:', test_mae)\n",
    "print('Mean Squared Error:', test_mse)\n",
    "print('R^2 Score:', test_r2)\n",
    "print('Variability:',test_variability)"
   ]
  },
  {
   "cell_type": "code",
   "execution_count": 15,
   "metadata": {},
   "outputs": [
    {
     "data": {
      "image/png": "[encoded data removed]",
      "text/plain": [
       "<Figure size 640x480 with 1 Axes>"
      ]
     },
     "metadata": {},
     "output_type": "display_data"
    }
   ],
   "source": [
    "test_predictions = lin.predict(test_x).flatten()\n",
    "\n",
    "a = plt.axes(aspect='equal')\n",
    "plt.scatter(test_y, test_predictions)\n",
    "plt.xlabel('True Values [PM25]')\n",
    "plt.ylabel('Predictions [PM25]')\n",
    "lims = [0, 50]\n",
    "plt.xlim(lims)\n",
    "plt.ylim(lims)\n",
    "_ = plt.plot(lims, lims)"
   ]
  }
 ],
 "metadata": {
  "kernelspec": {
   "display_name": "Python 3",
   "language": "python",
   "name": "python3"
  },
  "language_info": {
   "codemirror_mode": {
    "name": "ipython",
    "version": 3
   },
   "file_extension": ".py",
   "mimetype": "text/x-python",
   "name": "python",
   "nbconvert_exporter": "python",
   "pygments_lexer": "ipython3",
   "version": "3.10.4"
  },
  "orig_nbformat": 4,
  "vscode": {
   "interpreter": {
    "hash": "369f2c481f4da34e4445cda3fffd2e751bd1c4d706f27375911949ba6bb62e1c"
   }
  }
 },
 "nbformat": 4,
 "nbformat_minor": 2
}
